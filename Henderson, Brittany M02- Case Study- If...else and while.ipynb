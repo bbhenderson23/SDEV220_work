{
 "cells": [
  {
   "cell_type": "code",
   "execution_count": 2,
   "id": "087b1d7a",
   "metadata": {},
   "outputs": [
    {
     "name": "stdout",
     "output_type": "stream",
     "text": [
      "Please enter last name or enter 'ZZZ' to quit:Doe\n",
      "Please enter first name:John\n",
      "Please enter John Doe's GPA:3.8\n",
      "John Doe has made the Dean's List.\n",
      "John Doe has made the Honor Roll.\n",
      "Please enter last name or enter 'ZZZ' to quit:Doe\n",
      "Please enter first name:Jane\n",
      "Please enter Jane Doe's GPA:3.0\n",
      "Please enter last name or enter 'ZZZ' to quit:Person\n",
      "Please enter first name:A.\n",
      "Please enter A. Person's GPA:4.0\n",
      "A. Person has made the Dean's List.\n",
      "A. Person has made the Honor Roll.\n",
      "Please enter last name or enter 'ZZZ' to quit:Person\n",
      "Please enter first name:B.\n",
      "Please enter B. Person's GPA:3.3\n",
      "B. Person has made the Honor Roll.\n",
      "Please enter last name or enter 'ZZZ' to quit:Test\n",
      "Please enter first name:Student\n",
      "Please enter Student Test's GPA:1\n",
      "Please enter last name or enter 'ZZZ' to quit:ZZZ\n"
     ]
    }
   ],
   "source": [
    "# Brittany Henderson\n",
    "# Henderson, Brittany M02- Case Study- If...else and while\n",
    "# This app accepts a student's first and last name and GPA \n",
    "# and generates a message if the student has made Dean's List or Honor Roll. \n",
    "\n",
    "last_name = input(\"Please enter last name or enter 'ZZZ' to quit:\")\n",
    "\n",
    "while last_name != 'ZZZ':\n",
    "    first_name = input(\"Please enter first name:\")\n",
    "    gpa = float(input(f\"Please enter {first_name} {last_name}'s GPA:\"))\n",
    "    if gpa >= 3.5:\n",
    "        print(f\"{first_name} {last_name} has made the Dean's List.\")\n",
    "    if gpa >= 3.25:\n",
    "        print(f\"{first_name} {last_name} has made the Honor Roll.\") \n",
    "    last_name = input(\"Please enter last name or enter 'ZZZ' to quit:\")"
   ]
  },
  {
   "cell_type": "code",
   "execution_count": null,
   "id": "18442796",
   "metadata": {},
   "outputs": [],
   "source": []
  }
 ],
 "metadata": {
  "kernelspec": {
   "display_name": "Python 3 (ipykernel)",
   "language": "python",
   "name": "python3"
  },
  "language_info": {
   "codemirror_mode": {
    "name": "ipython",
    "version": 3
   },
   "file_extension": ".py",
   "mimetype": "text/x-python",
   "name": "python",
   "nbconvert_exporter": "python",
   "pygments_lexer": "ipython3",
   "version": "3.9.7"
  }
 },
 "nbformat": 4,
 "nbformat_minor": 5
}
