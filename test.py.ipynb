{
 "cells": [
  {
   "cell_type": "code",
   "execution_count": 2,
   "id": "506a2871",
   "metadata": {},
   "outputs": [
    {
     "name": "stderr",
     "output_type": "stream",
     "text": [
      "F.\n",
      "======================================================================\n",
      "FAIL: test_list_fraction (__main__.TestSum)\n",
      "Test that it can sum a list of fractions\n",
      "----------------------------------------------------------------------\n",
      "Traceback (most recent call last):\n",
      "  File \"/var/folders/0h/z0gbfcgx1nqdvc61ntj_87nc0000gn/T/ipykernel_16585/3163299401.py\", line 22, in test_list_fraction\n",
      "    self.assertEqual(result, 1)\n",
      "AssertionError: Fraction(9, 10) != 1\n",
      "\n",
      "----------------------------------------------------------------------\n",
      "Ran 2 tests in 0.003s\n",
      "\n",
      "FAILED (failures=1)\n"
     ]
    }
   ],
   "source": [
    "from fractions import Fraction\n",
    "import unittest\n",
    "\n",
    "from my_sum import sum\n",
    "\n",
    "\n",
    "class TestSum(unittest.TestCase):\n",
    "    def test_list_int(self):\n",
    "        \"\"\"\n",
    "        Test that it can sum a list of integers\n",
    "        \"\"\"\n",
    "        data = [1, 2, 3]\n",
    "        result = sum(data)\n",
    "        self.assertEqual(result, 6)\n",
    "\n",
    "    def test_list_fraction(self):\n",
    "        \"\"\"\n",
    "        Test that it can sum a list of fractions\n",
    "        \"\"\"\n",
    "        data = [Fraction(1, 4), Fraction(1, 4), Fraction(2, 5)]\n",
    "        result = sum(data)\n",
    "        self.assertEqual(result, 1)\n",
    "\n",
    "if __name__ == '__main__':\n",
    "    unittest.main(argv=['first-arg-is-ignored'], exit=False)\n",
    "\n",
    "#class TestSum(unittest.TestCase):\n",
    "    #def test_list_int(self):\n",
    "     #   \"\"\"\n",
    "      #  Test that it can sum a list of integers\n",
    "       # \"\"\"\n",
    "        #data = [1, 2, 3]\n",
    "        #result = sum(data)\n",
    "        #self.assertEqual(result, 6)\n",
    "\n",
    "#if __name__ == '__main__':\n",
    " #   unittest.main()"
   ]
  },
  {
   "cell_type": "markdown",
   "id": "20425d26",
   "metadata": {},
   "source": [
    "The results of this test mean that of the two tests run, one was successful. The F means a test failed and the . means one passed. \n",
    "\n",
    "The test that failed was the test that asserts that 1/4 + 1/4 + 2/5 = 1. As the Traceback tells us, the sum of those fractions is 9/10 and 9/10 != 1. It also tells us the line in the code that is problematic. In this exercise, it is line 22 where our assertion is. "
   ]
  }
 ],
 "metadata": {
  "kernelspec": {
   "display_name": "Python 3 (ipykernel)",
   "language": "python",
   "name": "python3"
  },
  "language_info": {
   "codemirror_mode": {
    "name": "ipython",
    "version": 3
   },
   "file_extension": ".py",
   "mimetype": "text/x-python",
   "name": "python",
   "nbconvert_exporter": "python",
   "pygments_lexer": "ipython3",
   "version": "3.9.7"
  }
 },
 "nbformat": 4,
 "nbformat_minor": 5
}
