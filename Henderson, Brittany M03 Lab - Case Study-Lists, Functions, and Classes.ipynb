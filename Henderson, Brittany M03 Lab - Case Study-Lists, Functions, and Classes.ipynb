{
 "cells": [
  {
   "cell_type": "code",
   "execution_count": 18,
   "id": "ad763bc4",
   "metadata": {},
   "outputs": [
    {
     "name": "stdout",
     "output_type": "stream",
     "text": [
      "Type of vehicle:4\n",
      "Year of vehicle:4\n",
      "Make of vehicle:4\n",
      "Model of vehicle:4\n",
      "Number of Doors (2 or 4):4\n",
      "Type of roof (solid or sun):4\n",
      "\n",
      "Type of vehicle: 4\n",
      "    Year of vehicle: 4 \n",
      "    Make of vehicle: 4\n",
      "    Model of vehicle: 4\n",
      "    Number of Doors: 4\n",
      "    Type of roof: 4\n"
     ]
    }
   ],
   "source": [
    "# Brittany Henderson\n",
    "# M03 Lab- Case Study-List, Functions, and Classes\n",
    "# This app will accept user input for a vehicle. \n",
    "#The app will then ask the user for the year, make, model, doors, and type of roof.\n",
    "#The app will then output the data in an easy-to-read and understandable format.\n",
    "\n",
    "class Vehicle():\n",
    "    def __init__(self, type_of_vehicle):\n",
    "        self.type_of_vehicle = type_of_vehicle\n",
    "    \n",
    "class Automobile(Vehicle):\n",
    "    def __init__(self, year, make, model, doors, roof):\n",
    "        super().__init__(type_of_vehicle)\n",
    "        self.year = year\n",
    "        self.make = make\n",
    "        self.model = model\n",
    "        self.doors = doors\n",
    "        self.roof = roof\n",
    "        \n",
    "        \n",
    "car = Vehicle(type_of_vehicle :=input(\"Type of vehicle:\"))\n",
    "car.year = input(\"Year of vehicle:\")\n",
    "car.make = input(\"Make of vehicle:\")\n",
    "car.model = input(\"Model of vehicle:\")\n",
    "car.doors = input(\"Number of Doors (2 or 4):\")\n",
    "car.roof = input(\"Type of roof (solid or sun):\")\n",
    "\n",
    "\n",
    "print(f'''\\nType of vehicle: {car.type_of_vehicle}\n",
    "Year of vehicle: {car.year} \n",
    "Make of vehicle: {car.make}\n",
    "Model of vehicle: {car.model}\n",
    "Number of Doors: {car.doors}\n",
    "Type of roof: {car.roof}''')\n",
    "\n",
    "\n",
    "\n"
   ]
  },
  {
   "cell_type": "code",
   "execution_count": null,
   "id": "0c61712b",
   "metadata": {},
   "outputs": [],
   "source": []
  }
 ],
 "metadata": {
  "kernelspec": {
   "display_name": "Python 3 (ipykernel)",
   "language": "python",
   "name": "python3"
  },
  "language_info": {
   "codemirror_mode": {
    "name": "ipython",
    "version": 3
   },
   "file_extension": ".py",
   "mimetype": "text/x-python",
   "name": "python",
   "nbconvert_exporter": "python",
   "pygments_lexer": "ipython3",
   "version": "3.9.7"
  }
 },
 "nbformat": 4,
 "nbformat_minor": 5
}
