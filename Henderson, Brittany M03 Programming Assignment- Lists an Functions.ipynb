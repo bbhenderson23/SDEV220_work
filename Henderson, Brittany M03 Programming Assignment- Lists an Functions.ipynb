{
 "cells": [
  {
   "cell_type": "code",
   "execution_count": 3,
   "id": "bdde2ba8",
   "metadata": {},
   "outputs": [],
   "source": [
    "#7.4\n",
    "\n",
    "things = ['mozzerella', 'cinderella', 'salmonella']"
   ]
  },
  {
   "cell_type": "code",
   "execution_count": 9,
   "id": "47e4530b",
   "metadata": {},
   "outputs": [
    {
     "name": "stdout",
     "output_type": "stream",
     "text": [
      "Cinderella\n",
      "['mozzerella', 'cinderella', 'salmonella']\n"
     ]
    }
   ],
   "source": [
    "#7.5\n",
    "\n",
    "print(things[1].capitalize())\n",
    "print (things)\n"
   ]
  },
  {
   "cell_type": "markdown",
   "id": "1470721f",
   "metadata": {},
   "source": [
    "No; Capatalizing Cinderella did not change the original list."
   ]
  },
  {
   "cell_type": "code",
   "execution_count": 13,
   "id": "da93b43f",
   "metadata": {},
   "outputs": [
    {
     "name": "stdout",
     "output_type": "stream",
     "text": [
      "MOZZERELLA\n",
      "['mozzerella', 'cinderella', 'salmonella']\n"
     ]
    }
   ],
   "source": [
    "#7.6\n",
    "\n",
    "print(things[0].upper())\n",
    "print(things)"
   ]
  },
  {
   "cell_type": "code",
   "execution_count": 16,
   "id": "cabbc8b7",
   "metadata": {},
   "outputs": [
    {
     "name": "stdout",
     "output_type": "stream",
     "text": [
      "['mozzerella']\n"
     ]
    }
   ],
   "source": [
    "#7.7\n",
    "\n",
    "del things[-1]\n",
    "print(things)"
   ]
  },
  {
   "cell_type": "code",
   "execution_count": 20,
   "id": "212cc947",
   "metadata": {},
   "outputs": [],
   "source": [
    "#9.1\n",
    "\n",
    "def good():\n",
    "    return ['Harry', 'Ron', 'Hermione']"
   ]
  },
  {
   "cell_type": "code",
   "execution_count": 73,
   "id": "54b8e5ce",
   "metadata": {},
   "outputs": [
    {
     "name": "stdout",
     "output_type": "stream",
     "text": [
      "5\n"
     ]
    }
   ],
   "source": [
    "#9.2\n",
    "\n",
    "\n",
    "def get_odds():\n",
    "    odds_list = []\n",
    "    for number in list(range(10)):\n",
    "        if number % 2 != 0:\n",
    "            yield number\n",
    "count = 1\n",
    "for number in get_odds():\n",
    "    if count == 3:\n",
    "        print(number)\n",
    "        break\n",
    "    count += 1\n",
    "                \n",
    "\n"
   ]
  }
 ],
 "metadata": {
  "kernelspec": {
   "display_name": "Python 3 (ipykernel)",
   "language": "python",
   "name": "python3"
  },
  "language_info": {
   "codemirror_mode": {
    "name": "ipython",
    "version": 3
   },
   "file_extension": ".py",
   "mimetype": "text/x-python",
   "name": "python",
   "nbconvert_exporter": "python",
   "pygments_lexer": "ipython3",
   "version": "3.9.7"
  }
 },
 "nbformat": 4,
 "nbformat_minor": 5
}
