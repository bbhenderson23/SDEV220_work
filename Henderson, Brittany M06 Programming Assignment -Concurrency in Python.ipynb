{
 "cells": [
  {
   "cell_type": "code",
   "execution_count": 18,
   "id": "00245a89",
   "metadata": {},
   "outputs": [],
   "source": [
    "#13.1\n",
    "\n",
    "from datetime import *\n",
    "now = date.today()\n",
    "\n",
    "\n",
    "with open('today.txt', 'wt') as output:\n",
    "    print(now, file=output)"
   ]
  },
  {
   "cell_type": "code",
   "execution_count": 19,
   "id": "43780711",
   "metadata": {},
   "outputs": [
    {
     "name": "stdout",
     "output_type": "stream",
     "text": [
      "2022-07-14\n",
      "\n"
     ]
    }
   ],
   "source": [
    "#13.2\n",
    "\n",
    "with open('today.txt', 'r') as input:\n",
    "    today_string = input.read()\n",
    "        \n",
    "print(today_string)"
   ]
  },
  {
   "cell_type": "code",
   "execution_count": 21,
   "id": "de99a381",
   "metadata": {},
   "outputs": [
    {
     "name": "stdout",
     "output_type": "stream",
     "text": [
      "2022-07-14\n",
      "\n"
     ]
    },
    {
     "data": {
      "text/plain": [
       "datetime.datetime(2022, 7, 14, 0, 0)"
      ]
     },
     "execution_count": 21,
     "metadata": {},
     "output_type": "execute_result"
    }
   ],
   "source": [
    "#13.3\n",
    "        \n",
    "print(today_string)\n",
    "parsed_date = '%Y-%m-%d\\n'\n",
    "datetime.strptime(today_string, parsed_date)"
   ]
  },
  {
   "cell_type": "code",
   "execution_count": 42,
   "id": "069bdfae",
   "metadata": {},
   "outputs": [
    {
     "ename": "ModuleNotFoundError",
     "evalue": "No module named 'multiprocess'",
     "output_type": "error",
     "traceback": [
      "\u001b[0;31m---------------------------------------------------------------------------\u001b[0m",
      "\u001b[0;31mModuleNotFoundError\u001b[0m                       Traceback (most recent call last)",
      "\u001b[0;32m/var/folders/0h/z0gbfcgx1nqdvc61ntj_87nc0000gn/T/ipykernel_17352/3143995606.py\u001b[0m in \u001b[0;36m<module>\u001b[0;34m\u001b[0m\n\u001b[1;32m      1\u001b[0m \u001b[0;31m#15.1\u001b[0m\u001b[0;34m\u001b[0m\u001b[0;34m\u001b[0m\u001b[0m\n\u001b[1;32m      2\u001b[0m \u001b[0;34m\u001b[0m\u001b[0m\n\u001b[0;32m----> 3\u001b[0;31m \u001b[0;32mimport\u001b[0m \u001b[0mmultiprocess\u001b[0m\u001b[0;34m\u001b[0m\u001b[0;34m\u001b[0m\u001b[0m\n\u001b[0m\u001b[1;32m      4\u001b[0m \u001b[0;32mimport\u001b[0m \u001b[0mrandom\u001b[0m\u001b[0;34m\u001b[0m\u001b[0;34m\u001b[0m\u001b[0m\n\u001b[1;32m      5\u001b[0m \u001b[0;32mfrom\u001b[0m \u001b[0mdatetime\u001b[0m \u001b[0;32mimport\u001b[0m \u001b[0mdatetime\u001b[0m\u001b[0;34m\u001b[0m\u001b[0;34m\u001b[0m\u001b[0m\n",
      "\u001b[0;31mModuleNotFoundError\u001b[0m: No module named 'multiprocess'"
     ]
    }
   ],
   "source": [
    "#15.1\n",
    "\n",
    "import multiprocessing\n",
    "import random\n",
    "from datetime import datetime\n",
    "from time import sleep\n",
    "\n",
    "\n",
    "def sleep_time(delay):\n",
    "    sleep(delay)\n",
    "    print(\"Waiting\", delay, \"seconds. Current time: \", datetime.utcnow())\n",
    "\n",
    "if __name__ == \"__main__\":\n",
    "    for n in range (3):\n",
    "        delay = random.random()\n",
    "        process = multiprocessing.Process(target=sleep_time, args=(delay,))\n",
    "        process.start()\n",
    "\n"
   ]
  },
  {
   "cell_type": "markdown",
   "id": "169d970b",
   "metadata": {},
   "source": [
    "On 15.1, when I run in Jupyter, I get an error. When I run it in PyCharm, it runs completely fine. I will include a screen shot of the successful run with the assignment. "
   ]
  }
 ],
 "metadata": {
  "kernelspec": {
   "display_name": "Python 3 (ipykernel)",
   "language": "python",
   "name": "python3"
  },
  "language_info": {
   "codemirror_mode": {
    "name": "ipython",
    "version": 3
   },
   "file_extension": ".py",
   "mimetype": "text/x-python",
   "name": "python",
   "nbconvert_exporter": "python",
   "pygments_lexer": "ipython3",
   "version": "3.9.7"
  }
 },
 "nbformat": 4,
 "nbformat_minor": 5
}
