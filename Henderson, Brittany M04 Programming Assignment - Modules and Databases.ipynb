{
 "cells": [
  {
   "cell_type": "code",
   "execution_count": 8,
   "id": "a2571ab9",
   "metadata": {},
   "outputs": [
    {
     "name": "stdout",
     "output_type": "stream",
     "text": [
      "Open 9-5 daily\n"
     ]
    }
   ],
   "source": [
    "#11.1\n",
    "import zoo\n",
    "\n",
    "zoo.hours()"
   ]
  },
  {
   "cell_type": "code",
   "execution_count": 10,
   "id": "9c5bf47d",
   "metadata": {},
   "outputs": [
    {
     "name": "stdout",
     "output_type": "stream",
     "text": [
      "Open 9-5 daily\n"
     ]
    }
   ],
   "source": [
    "#11.2\n",
    "import zoo as menagerie\n",
    "\n",
    "menagerie.hours()"
   ]
  },
  {
   "cell_type": "code",
   "execution_count": 54,
   "id": "73775c6b",
   "metadata": {},
   "outputs": [],
   "source": [
    "#16.3- Prereq for 16.4- Prereq for 16.5- Prereq for 16.8\n",
    "#Create a CSV file called books2.csv\n",
    "\n",
    "import csv\n",
    "\n",
    "list_of_books = '''Title, Author, Year\n",
    "The Weirdstone of Brisingamen,Alan Garner,1960\n",
    "Perdido Street Station,China Miéville,2000\n",
    "Thud!,Terry Pratchett,2005\n",
    "The Spellman Files,Lisa Lutz,2007\n",
    "Small Gods,Terry Pratchett,1992'''\n",
    "\n",
    "with open ('books2.csv', 'wt') as fileout:\n",
    "    fileout.write(list_of_books)\n",
    "\n",
    "\n"
   ]
  },
  {
   "cell_type": "code",
   "execution_count": 55,
   "id": "2855ce61",
   "metadata": {},
   "outputs": [
    {
     "name": "stdout",
     "output_type": "stream",
     "text": [
      "Title, Author, Year\n",
      "The Weirdstone of Brisingamen,Alan Garner,1960\n",
      "Perdido Street Station,China Miéville,2000\n",
      "Thud!,Terry Pratchett,2005\n",
      "The Spellman Files,Lisa Lutz,2007\n",
      "Small Gods,Terry Pratchett,1992\n",
      "\n"
     ]
    }
   ],
   "source": [
    "#Testing to see if steps in 16.3 worked:\n",
    "import csv\n",
    "with open('books2.csv', 'rt') as filein:\n",
    "    print(filein.read())"
   ]
  },
  {
   "cell_type": "code",
   "execution_count": 89,
   "id": "30ad0673",
   "metadata": {},
   "outputs": [],
   "source": [
    "#16.4- Prereq for 16.5\n",
    "#Use the sqlite3 module to create a SQLite database called books.db \n",
    "#and a table called books with these fields: title (text), author (text), and year (integer).\n",
    "\n",
    "import sqlite3\n",
    "\n",
    "conn = sqlite3.connect ('books.db')\n",
    "curs = conn.cursor()\n",
    "#curs.execute('''DROP TABLE book''')\n",
    "curs.execute('''CREATE TABLE book (Title text, Author text, Year int)''')\n",
    "conn.commit()\n"
   ]
  },
  {
   "cell_type": "code",
   "execution_count": 90,
   "id": "fde1e875",
   "metadata": {},
   "outputs": [],
   "source": [
    "#16.5- Prereq for 16.8\n",
    "#Read books2.csv and insert its data into the book table.\n",
    "\n",
    "import csv\n",
    "import sqlite3\n",
    "\n",
    "insert_statement = 'INSERT into book values(?,?,?)'\n",
    "\n",
    "with open ('books2.csv', 'rt') as filein:\n",
    "    books = csv.DictReader(filein, ['Title', 'Author', 'Year'])\n",
    "    for book in books:\n",
    "        curs.execute(insert_statement, (book['Title'], book['Author'], book['Year']))\n",
    "        \n",
    "conn.commit()"
   ]
  },
  {
   "cell_type": "code",
   "execution_count": 94,
   "id": "9e70dedb",
   "metadata": {},
   "outputs": [
    {
     "name": "stdout",
     "output_type": "stream",
     "text": [
      "Perdido Street Station\n",
      "Small Gods\n",
      "The Spellman Files\n",
      "The Weirdstone of Brisingamen\n",
      "Thud!\n",
      "title\n"
     ]
    }
   ],
   "source": [
    "#16.6- Checking to see if 16.5 worked correctly:\n",
    "#Select and print the title column from the book table in alphabetical order.\n",
    "\n",
    "sql_statement = 'SELECT title FROM book ORDER BY title asc'\n",
    "for row in conn.execute(sql_statement):\n",
    "    print(row[0])"
   ]
  },
  {
   "cell_type": "code",
   "execution_count": 95,
   "id": "33025f74",
   "metadata": {},
   "outputs": [
    {
     "name": "stdout",
     "output_type": "stream",
     "text": [
      "Perdido Street Station\n",
      "Small Gods\n",
      "The Spellman Files\n",
      "The Weirdstone of Brisingamen\n",
      "Thud!\n",
      "title\n"
     ]
    }
   ],
   "source": [
    "#16.8\n",
    "#Use the sqlalchemy module to connect to the sqlite3 database books.db \n",
    "#Select and print the title column from the book table in alphabetical order.\n",
    "\n",
    "import sqlalchemy as sa\n",
    "\n",
    "conn = sa.create_engine('sqlite:///books.db')\n",
    "q = 'SELECT title FROM book ORDER BY title asc'\n",
    "rows = conn.execute(q)\n",
    "for row in rows:\n",
    "    print (row[0])\n",
    "    \n",
    "fileout.close()"
   ]
  }
 ],
 "metadata": {
  "kernelspec": {
   "display_name": "Python 3 (ipykernel)",
   "language": "python",
   "name": "python3"
  },
  "language_info": {
   "codemirror_mode": {
    "name": "ipython",
    "version": 3
   },
   "file_extension": ".py",
   "mimetype": "text/x-python",
   "name": "python",
   "nbconvert_exporter": "python",
   "pygments_lexer": "ipython3",
   "version": "3.9.7"
  }
 },
 "nbformat": 4,
 "nbformat_minor": 5
}
